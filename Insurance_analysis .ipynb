{
 "cells": [
  {
   "cell_type": "code",
   "execution_count": 9,
   "id": "bba327a8",
   "metadata": {},
   "outputs": [],
   "source": [
    "\n",
    "\n",
    "import pandas as pd\n",
    "import numpy as np\n",
    "import matplotlib.pyplot as plt"
   ]
  },
  {
   "cell_type": "code",
   "execution_count": 10,
   "id": "40b60422",
   "metadata": {},
   "outputs": [
    {
     "data": {
      "text/html": [
       "<div>\n",
       "<style scoped>\n",
       "    .dataframe tbody tr th:only-of-type {\n",
       "        vertical-align: middle;\n",
       "    }\n",
       "\n",
       "    .dataframe tbody tr th {\n",
       "        vertical-align: top;\n",
       "    }\n",
       "\n",
       "    .dataframe thead th {\n",
       "        text-align: right;\n",
       "    }\n",
       "</style>\n",
       "<table border=\"1\" class=\"dataframe\">\n",
       "  <thead>\n",
       "    <tr style=\"text-align: right;\">\n",
       "      <th></th>\n",
       "      <th>age</th>\n",
       "      <th>sex</th>\n",
       "      <th>bmi</th>\n",
       "      <th>children</th>\n",
       "      <th>smoker</th>\n",
       "      <th>region</th>\n",
       "      <th>charges</th>\n",
       "    </tr>\n",
       "  </thead>\n",
       "  <tbody>\n",
       "    <tr>\n",
       "      <th>0</th>\n",
       "      <td>19</td>\n",
       "      <td>female</td>\n",
       "      <td>27.900</td>\n",
       "      <td>0</td>\n",
       "      <td>yes</td>\n",
       "      <td>southwest</td>\n",
       "      <td>16884.92400</td>\n",
       "    </tr>\n",
       "    <tr>\n",
       "      <th>1</th>\n",
       "      <td>18</td>\n",
       "      <td>male</td>\n",
       "      <td>33.770</td>\n",
       "      <td>1</td>\n",
       "      <td>no</td>\n",
       "      <td>southeast</td>\n",
       "      <td>1725.55230</td>\n",
       "    </tr>\n",
       "    <tr>\n",
       "      <th>2</th>\n",
       "      <td>28</td>\n",
       "      <td>male</td>\n",
       "      <td>33.000</td>\n",
       "      <td>3</td>\n",
       "      <td>no</td>\n",
       "      <td>southeast</td>\n",
       "      <td>4449.46200</td>\n",
       "    </tr>\n",
       "    <tr>\n",
       "      <th>3</th>\n",
       "      <td>33</td>\n",
       "      <td>male</td>\n",
       "      <td>22.705</td>\n",
       "      <td>0</td>\n",
       "      <td>no</td>\n",
       "      <td>northwest</td>\n",
       "      <td>21984.47061</td>\n",
       "    </tr>\n",
       "    <tr>\n",
       "      <th>4</th>\n",
       "      <td>32</td>\n",
       "      <td>male</td>\n",
       "      <td>28.880</td>\n",
       "      <td>0</td>\n",
       "      <td>no</td>\n",
       "      <td>northwest</td>\n",
       "      <td>3866.85520</td>\n",
       "    </tr>\n",
       "    <tr>\n",
       "      <th>...</th>\n",
       "      <td>...</td>\n",
       "      <td>...</td>\n",
       "      <td>...</td>\n",
       "      <td>...</td>\n",
       "      <td>...</td>\n",
       "      <td>...</td>\n",
       "      <td>...</td>\n",
       "    </tr>\n",
       "    <tr>\n",
       "      <th>1333</th>\n",
       "      <td>50</td>\n",
       "      <td>male</td>\n",
       "      <td>30.970</td>\n",
       "      <td>3</td>\n",
       "      <td>no</td>\n",
       "      <td>northwest</td>\n",
       "      <td>10600.54830</td>\n",
       "    </tr>\n",
       "    <tr>\n",
       "      <th>1334</th>\n",
       "      <td>18</td>\n",
       "      <td>female</td>\n",
       "      <td>31.920</td>\n",
       "      <td>0</td>\n",
       "      <td>no</td>\n",
       "      <td>northeast</td>\n",
       "      <td>2205.98080</td>\n",
       "    </tr>\n",
       "    <tr>\n",
       "      <th>1335</th>\n",
       "      <td>18</td>\n",
       "      <td>female</td>\n",
       "      <td>36.850</td>\n",
       "      <td>0</td>\n",
       "      <td>no</td>\n",
       "      <td>southeast</td>\n",
       "      <td>1629.83350</td>\n",
       "    </tr>\n",
       "    <tr>\n",
       "      <th>1336</th>\n",
       "      <td>21</td>\n",
       "      <td>female</td>\n",
       "      <td>25.800</td>\n",
       "      <td>0</td>\n",
       "      <td>no</td>\n",
       "      <td>southwest</td>\n",
       "      <td>2007.94500</td>\n",
       "    </tr>\n",
       "    <tr>\n",
       "      <th>1337</th>\n",
       "      <td>61</td>\n",
       "      <td>female</td>\n",
       "      <td>29.070</td>\n",
       "      <td>0</td>\n",
       "      <td>yes</td>\n",
       "      <td>northwest</td>\n",
       "      <td>29141.36030</td>\n",
       "    </tr>\n",
       "  </tbody>\n",
       "</table>\n",
       "<p>1338 rows × 7 columns</p>\n",
       "</div>"
      ],
      "text/plain": [
       "      age     sex     bmi  children smoker     region      charges\n",
       "0      19  female  27.900         0    yes  southwest  16884.92400\n",
       "1      18    male  33.770         1     no  southeast   1725.55230\n",
       "2      28    male  33.000         3     no  southeast   4449.46200\n",
       "3      33    male  22.705         0     no  northwest  21984.47061\n",
       "4      32    male  28.880         0     no  northwest   3866.85520\n",
       "...   ...     ...     ...       ...    ...        ...          ...\n",
       "1333   50    male  30.970         3     no  northwest  10600.54830\n",
       "1334   18  female  31.920         0     no  northeast   2205.98080\n",
       "1335   18  female  36.850         0     no  southeast   1629.83350\n",
       "1336   21  female  25.800         0     no  southwest   2007.94500\n",
       "1337   61  female  29.070         0    yes  northwest  29141.36030\n",
       "\n",
       "[1338 rows x 7 columns]"
      ]
     },
     "execution_count": 10,
     "metadata": {},
     "output_type": "execute_result"
    }
   ],
   "source": [
    "#importing insurance data from excel \n",
    "pd.read_excel('insurance.xlsx')"
   ]
  },
  {
   "cell_type": "code",
   "execution_count": 11,
   "id": "da810aaf",
   "metadata": {},
   "outputs": [],
   "source": [
    "df = pd.read_excel('insurance.xlsx')\n",
    "#gathering basic averages and max/min to better understand the data"
   ]
  },
  {
   "cell_type": "code",
   "execution_count": 12,
   "id": "ba2c75c0",
   "metadata": {},
   "outputs": [
    {
     "name": "stdout",
     "output_type": "stream",
     "text": [
      "17755824.990759\n"
     ]
    }
   ],
   "source": [
    "charges_sum = df['charges'].sum()\n",
    "print(charges_sum)"
   ]
  },
  {
   "cell_type": "code",
   "execution_count": 13,
   "id": "528631a3",
   "metadata": {},
   "outputs": [
    {
     "name": "stdout",
     "output_type": "stream",
     "text": [
      "13270.422265141257\n"
     ]
    }
   ],
   "source": [
    "charges_avg = charges_sum / len(df['charges'])\n",
    "print(charges_avg)"
   ]
  },
  {
   "cell_type": "code",
   "execution_count": 14,
   "id": "9175cbf2",
   "metadata": {},
   "outputs": [
    {
     "name": "stdout",
     "output_type": "stream",
     "text": [
      "1121.8739\n"
     ]
    }
   ],
   "source": [
    "charges_min = df['charges'].min()\n",
    "print(charges_min)"
   ]
  },
  {
   "cell_type": "code",
   "execution_count": 15,
   "id": "28e660ba",
   "metadata": {},
   "outputs": [
    {
     "name": "stdout",
     "output_type": "stream",
     "text": [
      "63770.42801\n"
     ]
    }
   ],
   "source": [
    "charges_max = df['charges'].max()\n",
    "print(charges_max)"
   ]
  },
  {
   "cell_type": "code",
   "execution_count": 16,
   "id": "1170b4a9",
   "metadata": {},
   "outputs": [],
   "source": [
    "most_expensive_profile = df[df['charges'] == charges_max]"
   ]
  },
  {
   "cell_type": "code",
   "execution_count": 17,
   "id": "381edf36",
   "metadata": {},
   "outputs": [],
   "source": [
    "cheapest_profile = df[df['charges'] == charges_min]"
   ]
  },
  {
   "cell_type": "code",
   "execution_count": 18,
   "id": "c57e8db7",
   "metadata": {},
   "outputs": [
    {
     "data": {
      "text/html": [
       "<div>\n",
       "<style scoped>\n",
       "    .dataframe tbody tr th:only-of-type {\n",
       "        vertical-align: middle;\n",
       "    }\n",
       "\n",
       "    .dataframe tbody tr th {\n",
       "        vertical-align: top;\n",
       "    }\n",
       "\n",
       "    .dataframe thead th {\n",
       "        text-align: right;\n",
       "    }\n",
       "</style>\n",
       "<table border=\"1\" class=\"dataframe\">\n",
       "  <thead>\n",
       "    <tr style=\"text-align: right;\">\n",
       "      <th></th>\n",
       "      <th>age</th>\n",
       "      <th>sex</th>\n",
       "      <th>bmi</th>\n",
       "      <th>children</th>\n",
       "      <th>smoker</th>\n",
       "      <th>region</th>\n",
       "      <th>charges</th>\n",
       "    </tr>\n",
       "  </thead>\n",
       "  <tbody>\n",
       "    <tr>\n",
       "      <th>940</th>\n",
       "      <td>18</td>\n",
       "      <td>male</td>\n",
       "      <td>23.21</td>\n",
       "      <td>0</td>\n",
       "      <td>no</td>\n",
       "      <td>southeast</td>\n",
       "      <td>1121.8739</td>\n",
       "    </tr>\n",
       "  </tbody>\n",
       "</table>\n",
       "</div>"
      ],
      "text/plain": [
       "     age   sex    bmi  children smoker     region    charges\n",
       "940   18  male  23.21         0     no  southeast  1121.8739"
      ]
     },
     "execution_count": 18,
     "metadata": {},
     "output_type": "execute_result"
    }
   ],
   "source": [
    "#here's what comprises the cheapest possible profile \n",
    "cheapest_profile"
   ]
  },
  {
   "cell_type": "code",
   "execution_count": 19,
   "id": "7e90c042",
   "metadata": {},
   "outputs": [
    {
     "data": {
      "text/html": [
       "<div>\n",
       "<style scoped>\n",
       "    .dataframe tbody tr th:only-of-type {\n",
       "        vertical-align: middle;\n",
       "    }\n",
       "\n",
       "    .dataframe tbody tr th {\n",
       "        vertical-align: top;\n",
       "    }\n",
       "\n",
       "    .dataframe thead th {\n",
       "        text-align: right;\n",
       "    }\n",
       "</style>\n",
       "<table border=\"1\" class=\"dataframe\">\n",
       "  <thead>\n",
       "    <tr style=\"text-align: right;\">\n",
       "      <th></th>\n",
       "      <th>age</th>\n",
       "      <th>sex</th>\n",
       "      <th>bmi</th>\n",
       "      <th>children</th>\n",
       "      <th>smoker</th>\n",
       "      <th>region</th>\n",
       "      <th>charges</th>\n",
       "    </tr>\n",
       "  </thead>\n",
       "  <tbody>\n",
       "    <tr>\n",
       "      <th>543</th>\n",
       "      <td>54</td>\n",
       "      <td>female</td>\n",
       "      <td>47.41</td>\n",
       "      <td>0</td>\n",
       "      <td>yes</td>\n",
       "      <td>southeast</td>\n",
       "      <td>63770.42801</td>\n",
       "    </tr>\n",
       "  </tbody>\n",
       "</table>\n",
       "</div>"
      ],
      "text/plain": [
       "     age     sex    bmi  children smoker     region      charges\n",
       "543   54  female  47.41         0    yes  southeast  63770.42801"
      ]
     },
     "execution_count": 19,
     "metadata": {},
     "output_type": "execute_result"
    }
   ],
   "source": [
    "#here's what comprises the most expensive profile \n",
    "most_expensive_profile"
   ]
  },
  {
   "cell_type": "code",
   "execution_count": 20,
   "id": "39ddf1bf",
   "metadata": {},
   "outputs": [],
   "source": [
    "#some key difference that can be seen: age, bmi, and smoker status\n",
    "#lets see which factors cause the largest change in cost "
   ]
  },
  {
   "cell_type": "code",
   "execution_count": 21,
   "id": "02bdefe5",
   "metadata": {},
   "outputs": [
    {
     "name": "stdout",
     "output_type": "stream",
     "text": [
      "32050.23183153284\n"
     ]
    }
   ],
   "source": [
    "#smoking analysis \n",
    "smokers_chart = df[df['smoker'] == 'yes']\n",
    "\n",
    "smokers_sum = smokers_chart['charges'].sum()\n",
    "\n",
    "smokers_avg = smokers_sum / len(smokers_chart['charges'])\n",
    "print(smokers_avg)\n"
   ]
  },
  {
   "cell_type": "code",
   "execution_count": 22,
   "id": "8a1fe30d",
   "metadata": {},
   "outputs": [
    {
     "name": "stdout",
     "output_type": "stream",
     "text": [
      "8434.268297856204\n"
     ]
    }
   ],
   "source": [
    "non_smokers_chart = df[df['smoker'] == 'no']\n",
    "\n",
    "non_smokers_sum = non_smokers_chart['charges'].sum()\n",
    "\n",
    "non_smokers_avg = non_smokers_sum / len(non_smokers_chart['charges'])\n",
    "\n",
    "print(non_smokers_avg)"
   ]
  },
  {
   "cell_type": "code",
   "execution_count": 23,
   "id": "eeec0285",
   "metadata": {},
   "outputs": [
    {
     "name": "stdout",
     "output_type": "stream",
     "text": [
      "23615.963533676637\n"
     ]
    }
   ],
   "source": [
    "price_diff = smokers_avg - non_smokers_avg\n",
    "print(price_diff)"
   ]
  },
  {
   "cell_type": "code",
   "execution_count": 24,
   "id": "39dad96a",
   "metadata": {},
   "outputs": [
    {
     "name": "stdout",
     "output_type": "stream",
     "text": [
      "2.800001458298317\n"
     ]
    }
   ],
   "source": [
    "percentage_increase_for_smoking = (price_diff/non_smokers_avg) \n",
    "print(percentage_increase_for_smoking)"
   ]
  },
  {
   "cell_type": "code",
   "execution_count": 25,
   "id": "f154e61e",
   "metadata": {},
   "outputs": [],
   "source": [
    "#if a person started smoking they would see a 280% increase in their total cost\n"
   ]
  },
  {
   "cell_type": "code",
   "execution_count": 26,
   "id": "e941490a",
   "metadata": {},
   "outputs": [
    {
     "name": "stdout",
     "output_type": "stream",
     "text": [
      "30.66339686098655\n"
     ]
    }
   ],
   "source": [
    "#Now lets see how BMI effects total cost \n",
    "bmi_sum = df['bmi'].sum()\n",
    "bmi_avg = bmi_sum / len(df['bmi'])\n",
    "print(bmi_avg)"
   ]
  },
  {
   "cell_type": "code",
   "execution_count": 27,
   "id": "1bda5ca8",
   "metadata": {},
   "outputs": [
    {
     "data": {
      "text/html": [
       "<div>\n",
       "<style scoped>\n",
       "    .dataframe tbody tr th:only-of-type {\n",
       "        vertical-align: middle;\n",
       "    }\n",
       "\n",
       "    .dataframe tbody tr th {\n",
       "        vertical-align: top;\n",
       "    }\n",
       "\n",
       "    .dataframe thead th {\n",
       "        text-align: right;\n",
       "    }\n",
       "</style>\n",
       "<table border=\"1\" class=\"dataframe\">\n",
       "  <thead>\n",
       "    <tr style=\"text-align: right;\">\n",
       "      <th></th>\n",
       "      <th>bmi</th>\n",
       "      <th>charges</th>\n",
       "    </tr>\n",
       "  </thead>\n",
       "  <tbody>\n",
       "    <tr>\n",
       "      <th>172</th>\n",
       "      <td>15.960</td>\n",
       "      <td>1694.79640</td>\n",
       "    </tr>\n",
       "    <tr>\n",
       "      <th>428</th>\n",
       "      <td>16.815</td>\n",
       "      <td>3167.45585</td>\n",
       "    </tr>\n",
       "    <tr>\n",
       "      <th>1226</th>\n",
       "      <td>16.815</td>\n",
       "      <td>6640.54485</td>\n",
       "    </tr>\n",
       "    <tr>\n",
       "      <th>412</th>\n",
       "      <td>17.195</td>\n",
       "      <td>14455.64405</td>\n",
       "    </tr>\n",
       "    <tr>\n",
       "      <th>1286</th>\n",
       "      <td>17.290</td>\n",
       "      <td>3732.62510</td>\n",
       "    </tr>\n",
       "    <tr>\n",
       "      <th>...</th>\n",
       "      <td>...</td>\n",
       "      <td>...</td>\n",
       "    </tr>\n",
       "    <tr>\n",
       "      <th>286</th>\n",
       "      <td>48.070</td>\n",
       "      <td>9432.92530</td>\n",
       "    </tr>\n",
       "    <tr>\n",
       "      <th>116</th>\n",
       "      <td>49.060</td>\n",
       "      <td>11381.32540</td>\n",
       "    </tr>\n",
       "    <tr>\n",
       "      <th>847</th>\n",
       "      <td>50.380</td>\n",
       "      <td>2438.05520</td>\n",
       "    </tr>\n",
       "    <tr>\n",
       "      <th>1047</th>\n",
       "      <td>52.580</td>\n",
       "      <td>44501.39820</td>\n",
       "    </tr>\n",
       "    <tr>\n",
       "      <th>1317</th>\n",
       "      <td>53.130</td>\n",
       "      <td>1163.46270</td>\n",
       "    </tr>\n",
       "  </tbody>\n",
       "</table>\n",
       "<p>1338 rows × 2 columns</p>\n",
       "</div>"
      ],
      "text/plain": [
       "         bmi      charges\n",
       "172   15.960   1694.79640\n",
       "428   16.815   3167.45585\n",
       "1226  16.815   6640.54485\n",
       "412   17.195  14455.64405\n",
       "1286  17.290   3732.62510\n",
       "...      ...          ...\n",
       "286   48.070   9432.92530\n",
       "116   49.060  11381.32540\n",
       "847   50.380   2438.05520\n",
       "1047  52.580  44501.39820\n",
       "1317  53.130   1163.46270\n",
       "\n",
       "[1338 rows x 2 columns]"
      ]
     },
     "execution_count": 27,
     "metadata": {},
     "output_type": "execute_result"
    }
   ],
   "source": [
    "bmi_cost_chart = df.loc[0:, ['bmi', 'charges']]\n",
    "bmi_cost_chart.sort_values(by = ['bmi'])"
   ]
  },
  {
   "cell_type": "code",
   "execution_count": 28,
   "id": "ddda9cf2",
   "metadata": {},
   "outputs": [],
   "source": [
    "bmi_cost_sorted_chart = bmi_cost_chart.sort_values(by = ['bmi'])"
   ]
  },
  {
   "cell_type": "code",
   "execution_count": 29,
   "id": "2efb3477",
   "metadata": {},
   "outputs": [
    {
     "data": {
      "text/plain": [
       "<AxesSubplot:xlabel='bmi'>"
      ]
     },
     "execution_count": 29,
     "metadata": {},
     "output_type": "execute_result"
    },
    {
     "data": {
      "image/png": "[encoded data removed]",
      "text/plain": [
       "<Figure size 640x480 with 1 Axes>"
      ]
     },
     "metadata": {},
     "output_type": "display_data"
    }
   ],
   "source": [
    "bmi_cost_sorted_chart.plot(y = 'charges', x = 'bmi')"
   ]
  },
  {
   "cell_type": "code",
   "execution_count": 30,
   "id": "078011d4",
   "metadata": {},
   "outputs": [],
   "source": [
    "#this graph allows us to see that aicrease in bmi shows a trend of increased charges for insurance "
   ]
  },
  {
   "cell_type": "code",
   "execution_count": 31,
   "id": "65f2507f",
   "metadata": {},
   "outputs": [],
   "source": [
    "#now lets inpsect how age affects cost for insurence buyers "
   ]
  },
  {
   "cell_type": "code",
   "execution_count": 35,
   "id": "02c904d2",
   "metadata": {},
   "outputs": [],
   "source": [
    "age_cost_chart = df.loc[0:, ['age', 'charges']]"
   ]
  },
  {
   "cell_type": "code",
   "execution_count": 39,
   "id": "51bfb6a6",
   "metadata": {},
   "outputs": [
    {
     "data": {
      "text/plain": [
       "<AxesSubplot:xlabel='age'>"
      ]
     },
     "execution_count": 39,
     "metadata": {},
     "output_type": "execute_result"
    },
    {
     "data": {
      "image/png": "[encoded data removed]",
      "text/plain": [
       "<Figure size 640x480 with 1 Axes>"
      ]
     },
     "metadata": {},
     "output_type": "display_data"
    }
   ],
   "source": [
    "age_cost_chart_sorted = age_cost_chart.sort_values(by = ['age'])\n",
    "age_cost_chart_sorted.plot(y= 'charges', x='age')"
   ]
  },
  {
   "cell_type": "code",
   "execution_count": 3,
   "id": "59710621",
   "metadata": {},
   "outputs": [],
   "source": [
    "#this chart shows a linear relation between age and cost for users, as age increase, the insurance owner can expect to an increas in total charges \n"
   ]
  },
  {
   "cell_type": "code",
   "execution_count": 4,
   "id": "7781461c",
   "metadata": {},
   "outputs": [],
   "source": [
    "#it can be determined that the the key drivers in price increase for an insurance buyer are as follows: 1) smokining status, 2) bmi, 3) age "
   ]
  },
  {
   "cell_type": "code",
   "execution_count": null,
   "id": "183c5d9c",
   "metadata": {},
   "outputs": [],
   "source": []
  }
 ],
 "metadata": {
  "kernelspec": {
   "display_name": "Python 3 (ipykernel)",
   "language": "python",
   "name": "python3"
  },
  "language_info": {
   "codemirror_mode": {
    "name": "ipython",
    "version": 3
   },
   "file_extension": ".py",
   "mimetype": "text/x-python",
   "name": "python",
   "nbconvert_exporter": "python",
   "pygments_lexer": "ipython3",
   "version": "3.9.13"
  }
 },
 "nbformat": 4,
 "nbformat_minor": 5
}
